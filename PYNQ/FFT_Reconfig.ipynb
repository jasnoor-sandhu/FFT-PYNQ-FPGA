{
 "cells": [
  {
   "cell_type": "markdown",
   "id": "19c6bd9e",
   "metadata": {},
   "source": [
    "# Reconfigurable FFT"
   ]
  },
  {
   "cell_type": "markdown",
   "id": "d6cdac0c",
   "metadata": {},
   "source": [
    "## Overlay Setup"
   ]
  },
  {
   "cell_type": "code",
   "execution_count": 1,
   "id": "9feebf05",
   "metadata": {},
   "outputs": [],
   "source": [
    "from pynq import Overlay"
   ]
  },
  {
   "cell_type": "code",
   "execution_count": 2,
   "id": "908a3132",
   "metadata": {},
   "outputs": [
    {
     "data": {
      "application/javascript": [
       "\n",
       "try {\n",
       "require(['notebook/js/codecell'], function(codecell) {\n",
       "  codecell.CodeCell.options_default.highlight_modes[\n",
       "      'magic_text/x-csrc'] = {'reg':[/^%%microblaze/]};\n",
       "  Jupyter.notebook.events.one('kernel_ready.Kernel', function(){\n",
       "      Jupyter.notebook.get_cells().map(function(cell){\n",
       "          if (cell.cell_type == 'code'){ cell.auto_highlight(); } }) ;\n",
       "  });\n",
       "});\n",
       "} catch (e) {};\n"
      ]
     },
     "metadata": {},
     "output_type": "display_data"
    },
    {
     "data": {
      "application/javascript": [
       "\n",
       "try {\n",
       "require(['notebook/js/codecell'], function(codecell) {\n",
       "  codecell.CodeCell.options_default.highlight_modes[\n",
       "      'magic_text/x-csrc'] = {'reg':[/^%%pybind11/]};\n",
       "  Jupyter.notebook.events.one('kernel_ready.Kernel', function(){\n",
       "      Jupyter.notebook.get_cells().map(function(cell){\n",
       "          if (cell.cell_type == 'code'){ cell.auto_highlight(); } }) ;\n",
       "  });\n",
       "});\n",
       "} catch (e) {};\n"
      ]
     },
     "metadata": {},
     "output_type": "display_data"
    }
   ],
   "source": [
    "overlay = Overlay(\"FFT_Reconfig.bit\")"
   ]
  },
  {
   "cell_type": "code",
   "execution_count": 20,
   "id": "c2e58065",
   "metadata": {},
   "outputs": [],
   "source": [
    "overlay?"
   ]
  },
  {
   "cell_type": "code",
   "execution_count": 4,
   "id": "b150f751",
   "metadata": {},
   "outputs": [],
   "source": [
    "data_dma = overlay.fft_block.data_dma\n",
    "config_dma = overlay.fft_block.config_dma"
   ]
  },
  {
   "cell_type": "code",
   "execution_count": 5,
   "id": "73196e99",
   "metadata": {},
   "outputs": [],
   "source": [
    "config_dma?"
   ]
  },
  {
   "cell_type": "code",
   "execution_count": 6,
   "id": "6255992c",
   "metadata": {},
   "outputs": [],
   "source": [
    "data_send = data_dma.sendchannel\n",
    "data_recv = data_dma.recvchannel\n",
    "config_send = config_dma.sendchannel"
   ]
  },
  {
   "cell_type": "markdown",
   "id": "1b2aa751",
   "metadata": {},
   "source": [
    "## Creating Config"
   ]
  },
  {
   "cell_type": "markdown",
   "id": "7d5ba87a",
   "metadata": {},
   "source": [
    "https://www.xilinx.com/support/documents/ip_documentation/xfft/v9_1/pg109-xfft.pdf   (Runtime Transform Configuration)"
   ]
  },
  {
   "cell_type": "markdown",
   "id": "8b1f8722",
   "metadata": {},
   "source": [
    "![alt text](Config_FFT.png \"Subheading\")"
   ]
  },
  {
   "cell_type": "code",
   "execution_count": 7,
   "id": "7d6fe727",
   "metadata": {},
   "outputs": [],
   "source": [
    "from math import log\n",
    "def get_config_data(fft_direction, size):\n",
    "    fft_direction.zfill(8)\n",
    "    \n",
    "    byte2 = '0'*8 #No cyclic Prefix\n",
    "    \n",
    "    expo = int(log(size,2))\n",
    "    fft_size_bin = bin(expo)[2:]\n",
    "    \n",
    "    fft_size_bin.zfill(8)\n",
    "    config_data = fft_direction + byte2 + fft_size_bin\n",
    "    return int(config_data,2)"
   ]
  },
  {
   "cell_type": "markdown",
   "id": "3c825349",
   "metadata": {},
   "source": [
    "## Data Generation"
   ]
  },
  {
   "cell_type": "code",
   "execution_count": 8,
   "id": "bd6573c4",
   "metadata": {},
   "outputs": [],
   "source": [
    "import numpy as np\n",
    "import matplotlib.pyplot as plt\n",
    "import random\n",
    "import time"
   ]
  },
  {
   "cell_type": "code",
   "execution_count": 9,
   "id": "2bdfe6c4",
   "metadata": {},
   "outputs": [],
   "source": [
    "def get_random_data(SAMPLES, time_interval):\n",
    "    A1 = random.uniform(100,1000)\n",
    "    A2 = random.uniform(100,1000)\n",
    "    A3 = random.uniform(100,1000)\n",
    "    f1 = random.uniform(100,180)\n",
    "    f2 = random.uniform(200,480)\n",
    "    f3 = random.uniform(500,1500)\n",
    "    w1 = 2*np.pi*f1\n",
    "    w2 = 2*np.pi*f2\n",
    "    w3 = 2*np.pi*f3\n",
    "    t = np.linspace(0, time_interval, SAMPLES)\n",
    "    data = A1*np.sin(w1*t,dtype=np.csingle) + A2*np.sin(w2*t,dtype=np.csingle) + A3*np.sin(w3*t,dtype=np.csingle)\n",
    "    return (data,t)\n",
    "    "
   ]
  },
  {
   "cell_type": "code",
   "execution_count": 32,
   "id": "621b937c",
   "metadata": {},
   "outputs": [],
   "source": [
    "SAMPLES = 8192\n",
    "time_interval = 1"
   ]
  },
  {
   "cell_type": "code",
   "execution_count": 33,
   "id": "cc210368",
   "metadata": {},
   "outputs": [
    {
     "data": {
      "text/plain": [
       "[<matplotlib.lines.Line2D at 0xab4f36b8>]"
      ]
     },
     "execution_count": 33,
     "metadata": {},
     "output_type": "execute_result"
    },
    {
     "data": {
      "image/png": "[encoded data removed]",
      "text/plain": [
       "<Figure size 432x288 with 1 Axes>"
      ]
     },
     "metadata": {
      "needs_background": "light"
     },
     "output_type": "display_data"
    }
   ],
   "source": [
    "data,t = get_random_data(SAMPLES, time_interval)\n",
    "plt.plot(t, np.real(data))"
   ]
  },
  {
   "cell_type": "markdown",
   "id": "9f242d66",
   "metadata": {},
   "source": [
    "## PS Execution"
   ]
  },
  {
   "cell_type": "code",
   "execution_count": 48,
   "id": "9b7b2496",
   "metadata": {},
   "outputs": [
    {
     "name": "stdout",
     "output_type": "stream",
     "text": [
      "CPU times: user 6.88 ms, sys: 377 µs, total: 7.26 ms\n",
      "Wall time: 4.88 ms\n"
     ]
    }
   ],
   "source": [
    "%%time\n",
    "output = np.fft.fft(data)"
   ]
  },
  {
   "cell_type": "code",
   "execution_count": 41,
   "id": "d96d96d6",
   "metadata": {},
   "outputs": [],
   "source": [
    "freq = np.fft.fftfreq(SAMPLES*time_interval, 1/SAMPLES)"
   ]
  },
  {
   "cell_type": "code",
   "execution_count": 36,
   "id": "023195f7",
   "metadata": {},
   "outputs": [
    {
     "data": {
      "text/plain": [
       "[<matplotlib.lines.Line2D at 0xab4a5e80>]"
      ]
     },
     "execution_count": 36,
     "metadata": {},
     "output_type": "execute_result"
    },
    {
     "data": {
      "image/png": "[encoded data removed]",
      "text/plain": [
       "<Figure size 432x288 with 1 Axes>"
      ]
     },
     "metadata": {
      "needs_background": "light"
     },
     "output_type": "display_data"
    }
   ],
   "source": [
    "plt.plot(freq, np.abs(output))"
   ]
  },
  {
   "cell_type": "markdown",
   "id": "5c46d8ad",
   "metadata": {},
   "source": [
    "## PL Implementation"
   ]
  },
  {
   "cell_type": "code",
   "execution_count": 12,
   "id": "1b7e7ab8",
   "metadata": {},
   "outputs": [],
   "source": [
    "from pynq import allocate"
   ]
  },
  {
   "cell_type": "code",
   "execution_count": 38,
   "id": "8c06bdf5",
   "metadata": {},
   "outputs": [],
   "source": [
    "input_buffer = allocate(SAMPLES, np.csingle)\n",
    "output_buffer = allocate(SAMPLES, np.csingle)\n",
    "np.copyto(input_buffer,data)"
   ]
  },
  {
   "cell_type": "code",
   "execution_count": 39,
   "id": "2765baaa",
   "metadata": {},
   "outputs": [
    {
     "data": {
      "text/plain": [
       "[<matplotlib.lines.Line2D at 0xab3a1ee0>]"
      ]
     },
     "execution_count": 39,
     "metadata": {},
     "output_type": "execute_result"
    },
    {
     "data": {
      "image/png": "[encoded data removed]",
      "text/plain": [
       "<Figure size 432x288 with 1 Axes>"
      ]
     },
     "metadata": {
      "needs_background": "light"
     },
     "output_type": "display_data"
    }
   ],
   "source": [
    "plt.plot(t, np.real(input_buffer))"
   ]
  },
  {
   "cell_type": "code",
   "execution_count": 54,
   "id": "d0c0bd07",
   "metadata": {},
   "outputs": [
    {
     "name": "stdout",
     "output_type": "stream",
     "text": [
      "CPU times: user 2.19 ms, sys: 121 µs, total: 2.31 ms\n",
      "Wall time: 2.09 ms\n"
     ]
    }
   ],
   "source": [
    "%%time\n",
    "data_send.transfer(input_buffer)\n",
    "data_recv.transfer(output_buffer)\n",
    "data_send.wait()\n",
    "data_recv.wait()"
   ]
  },
  {
   "cell_type": "code",
   "execution_count": 55,
   "id": "17a139a4",
   "metadata": {},
   "outputs": [
    {
     "data": {
      "text/plain": [
       "[<matplotlib.lines.Line2D at 0xab256640>]"
      ]
     },
     "execution_count": 55,
     "metadata": {},
     "output_type": "execute_result"
    },
    {
     "data": {
      "image/png": "[encoded data removed]",
      "text/plain": [
       "<Figure size 432x288 with 1 Axes>"
      ]
     },
     "metadata": {
      "needs_background": "light"
     },
     "output_type": "display_data"
    }
   ],
   "source": [
    "plt.plot(freq, np.abs(output_buffer))"
   ]
  },
  {
   "cell_type": "markdown",
   "id": "ccd4420f",
   "metadata": {},
   "source": [
    "### Using Configuration"
   ]
  },
  {
   "cell_type": "code",
   "execution_count": 10,
   "id": "ed9b0159",
   "metadata": {},
   "outputs": [],
   "source": [
    "SAMPLES = 1024\n",
    "time_interval = 1\n",
    "data, t = get_random_data(SAMPLES, time_interval)"
   ]
  },
  {
   "cell_type": "code",
   "execution_count": 13,
   "id": "812a41c3",
   "metadata": {},
   "outputs": [],
   "source": [
    "config_buffer = allocate(1, np.uint32)\n",
    "config_buffer[0] = get_config_data('1',SAMPLES)"
   ]
  },
  {
   "cell_type": "code",
   "execution_count": 14,
   "id": "2be9fbd6",
   "metadata": {},
   "outputs": [],
   "source": [
    "config_send.transfer(config_buffer)\n",
    "config_send.wait()"
   ]
  },
  {
   "cell_type": "code",
   "execution_count": 15,
   "id": "24e06ed8",
   "metadata": {},
   "outputs": [],
   "source": [
    "input_buffer1 = allocate(SAMPLES, np.csingle)\n",
    "output_buffer1 = allocate(SAMPLES, np.csingle)\n",
    "np.copyto(input_buffer1,data)"
   ]
  },
  {
   "cell_type": "code",
   "execution_count": 16,
   "id": "48d4044c",
   "metadata": {},
   "outputs": [],
   "source": [
    "data_send.transfer(input_buffer1)\n",
    "data_recv.transfer(output_buffer1)\n",
    "data_send.wait()\n",
    "data_recv.wait()"
   ]
  },
  {
   "cell_type": "code",
   "execution_count": 17,
   "id": "691d5a85",
   "metadata": {},
   "outputs": [
    {
     "data": {
      "text/plain": [
       "[<matplotlib.lines.Line2D at 0xab53b1a8>]"
      ]
     },
     "execution_count": 17,
     "metadata": {},
     "output_type": "execute_result"
    },
    {
     "data": {
      "image/png": "[encoded data removed]",
      "text/plain": [
       "<Figure size 432x288 with 1 Axes>"
      ]
     },
     "metadata": {
      "needs_background": "light"
     },
     "output_type": "display_data"
    }
   ],
   "source": [
    "plt.plot(np.abs(output_buffer1))"
   ]
  },
  {
   "cell_type": "code",
   "execution_count": 18,
   "id": "2cdefb61",
   "metadata": {},
   "outputs": [
    {
     "data": {
      "text/plain": [
       "[<matplotlib.lines.Line2D at 0xab4b3ac0>]"
      ]
     },
     "execution_count": 18,
     "metadata": {},
     "output_type": "execute_result"
    },
    {
     "data": {
      "image/png": "[encoded data removed]",
      "text/plain": [
       "<Figure size 432x288 with 1 Axes>"
      ]
     },
     "metadata": {
      "needs_background": "light"
     },
     "output_type": "display_data"
    }
   ],
   "source": [
    "plt.plot(np.abs(np.fft.fft(input_buffer1)))"
   ]
  },
  {
   "cell_type": "code",
   "execution_count": 19,
   "id": "b0d85eaa",
   "metadata": {},
   "outputs": [
    {
     "data": {
      "text/plain": [
       "[<matplotlib.lines.Line2D at 0xab4754a8>]"
      ]
     },
     "execution_count": 19,
     "metadata": {},
     "output_type": "execute_result"
    },
    {
     "data": {
      "image/png": "[encoded data removed]",
      "text/plain": [
       "<Figure size 432x288 with 1 Axes>"
      ]
     },
     "metadata": {
      "needs_background": "light"
     },
     "output_type": "display_data"
    }
   ],
   "source": [
    "plt.plot(np.abs(np.abs(output_buffer1) - np.abs(np.fft.fft(input_buffer1)))) # ERROR BW PS AND PL"
   ]
  },
  {
   "cell_type": "code",
   "execution_count": null,
   "id": "9cd22cb3",
   "metadata": {},
   "outputs": [],
   "source": []
  }
 ],
 "metadata": {
  "kernelspec": {
   "display_name": "Python 3 (ipykernel)",
   "language": "python",
   "name": "python3"
  },
  "language_info": {
   "codemirror_mode": {
    "name": "ipython",
    "version": 3
   },
   "file_extension": ".py",
   "mimetype": "text/x-python",
   "name": "python",
   "nbconvert_exporter": "python",
   "pygments_lexer": "ipython3",
   "version": "3.10.4"
  }
 },
 "nbformat": 4,
 "nbformat_minor": 5
}

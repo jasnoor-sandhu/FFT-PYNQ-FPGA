{
 "cells": [
  {
   "cell_type": "markdown",
   "id": "2080f278",
   "metadata": {},
   "source": [
    "# Creating Driver"
   ]
  },
  {
   "cell_type": "code",
   "execution_count": 1,
   "id": "56fbc8bd",
   "metadata": {},
   "outputs": [],
   "source": [
    "from pynq import DefaultHierarchy\n",
    "from pynq import allocate\n",
    "from math import log\n",
    "import numpy as np\n",
    "\n",
    "class FFT_Block_Driver(DefaultHierarchy):\n",
    "    def __init__(self, description):\n",
    "        super().__init__(description)\n",
    "        self.configuration = 0\n",
    "        self.fft_size = 0\n",
    "        \n",
    "    def _get_config_data(self, fft_direction, size):\n",
    "        fft_direction.zfill(8)\n",
    "        byte2 = '0'*8 #Cyclic Prefix\n",
    "        x = int(log(size,2))\n",
    "        fft_size = bin(x)[2:]\n",
    "        fft_size.zfill(8)\n",
    "        config_data = fft_direction + byte2 + fft_size\n",
    "        return int(config_data,2)\n",
    "    \n",
    "    def configure(self, fft_direction, size):\n",
    "        self.configuration = self._get_config_data(fft_direction, size)\n",
    "        config_data = allocate(1, np.uint32)\n",
    "        config_data[0] = self.configuration\n",
    "        self.config_dma.sendchannel.transfer(config_data)\n",
    "        self.config_dma.sendchannel.wait()\n",
    "        del config_data\n",
    "    \n",
    "    def stream(self, input_buffer):\n",
    "        output_buffer = allocate(SAMPLES, np.csingle)\n",
    "        self.data_dma.sendchannel.transfer(input_buffer)\n",
    "        self.data_dma.recvchannel.transfer(output_buffer)\n",
    "        self.data_dma.sendchannel.wait()\n",
    "        self.data_dma.recvchannel.wait()\n",
    "        return output_buffer\n",
    "    \n",
    "    @staticmethod\n",
    "    def checkhierarchy(description):\n",
    "        if 'data_dma' in description['ip'] \\\n",
    "            and 'config_dma' in description['ip']:\n",
    "                return True\n",
    "        return False\n"
   ]
  },
  {
   "cell_type": "code",
   "execution_count": 2,
   "id": "0bfa0fed",
   "metadata": {},
   "outputs": [
    {
     "data": {
      "application/javascript": [
       "\n",
       "try {\n",
       "require(['notebook/js/codecell'], function(codecell) {\n",
       "  codecell.CodeCell.options_default.highlight_modes[\n",
       "      'magic_text/x-csrc'] = {'reg':[/^%%microblaze/]};\n",
       "  Jupyter.notebook.events.one('kernel_ready.Kernel', function(){\n",
       "      Jupyter.notebook.get_cells().map(function(cell){\n",
       "          if (cell.cell_type == 'code'){ cell.auto_highlight(); } }) ;\n",
       "  });\n",
       "});\n",
       "} catch (e) {};\n"
      ]
     },
     "metadata": {},
     "output_type": "display_data"
    },
    {
     "data": {
      "application/javascript": [
       "\n",
       "try {\n",
       "require(['notebook/js/codecell'], function(codecell) {\n",
       "  codecell.CodeCell.options_default.highlight_modes[\n",
       "      'magic_text/x-csrc'] = {'reg':[/^%%pybind11/]};\n",
       "  Jupyter.notebook.events.one('kernel_ready.Kernel', function(){\n",
       "      Jupyter.notebook.get_cells().map(function(cell){\n",
       "          if (cell.cell_type == 'code'){ cell.auto_highlight(); } }) ;\n",
       "  });\n",
       "});\n",
       "} catch (e) {};\n"
      ]
     },
     "metadata": {},
     "output_type": "display_data"
    }
   ],
   "source": [
    "from pynq import Overlay\n",
    "overlay = Overlay(\"FFT_Reconfig.bit\")"
   ]
  },
  {
   "cell_type": "code",
   "execution_count": 3,
   "id": "e6e31ece",
   "metadata": {},
   "outputs": [],
   "source": [
    "overlay?"
   ]
  },
  {
   "cell_type": "code",
   "execution_count": 4,
   "id": "914d7751",
   "metadata": {},
   "outputs": [],
   "source": [
    "fft = overlay.fft_block"
   ]
  },
  {
   "cell_type": "code",
   "execution_count": 5,
   "id": "906a4ce7",
   "metadata": {},
   "outputs": [],
   "source": [
    "fft?"
   ]
  },
  {
   "cell_type": "markdown",
   "id": "adc7c7c5",
   "metadata": {},
   "source": [
    "# Testing The Driver"
   ]
  },
  {
   "cell_type": "code",
   "execution_count": 6,
   "id": "d6f67850",
   "metadata": {},
   "outputs": [],
   "source": [
    "import numpy as np\n",
    "import matplotlib.pyplot as plt\n",
    "import random\n",
    "import time\n",
    "\n",
    "def get_random_data(SAMPLES, time_interval):\n",
    "    A1 = random.uniform(100,1000)\n",
    "    A2 = random.uniform(100,1000)\n",
    "    A3 = random.uniform(100,1000)\n",
    "    f1 = random.uniform(100,180)\n",
    "    f2 = random.uniform(200,480)\n",
    "    f3 = random.uniform(500,1500)\n",
    "    w1 = 2*np.pi*f1\n",
    "    w2 = 2*np.pi*f2\n",
    "    w3 = 2*np.pi*f3\n",
    "    t = np.linspace(0, time_interval, SAMPLES)\n",
    "    data = A1*np.sin(w1*t,dtype=np.csingle) + A2*np.sin(w2*t,dtype=np.csingle) + A3*np.sin(w3*t,dtype=np.csingle)\n",
    "    return (data,t)"
   ]
  },
  {
   "cell_type": "code",
   "execution_count": 7,
   "id": "b223825f",
   "metadata": {},
   "outputs": [
    {
     "data": {
      "text/plain": [
       "[<matplotlib.lines.Line2D at 0xabfbaad8>]"
      ]
     },
     "execution_count": 7,
     "metadata": {},
     "output_type": "execute_result"
    },
    {
     "data": {
      "image/png": "[encoded data removed]",
      "text/plain": [
       "<Figure size 432x288 with 1 Axes>"
      ]
     },
     "metadata": {
      "needs_background": "light"
     },
     "output_type": "display_data"
    }
   ],
   "source": [
    "SAMPLES = 1024\n",
    "time_interval = 1\n",
    "data,t = get_random_data(SAMPLES, time_interval)\n",
    "plt.plot(t, np.real(data))"
   ]
  },
  {
   "cell_type": "code",
   "execution_count": 17,
   "id": "e5b5b783",
   "metadata": {},
   "outputs": [
    {
     "name": "stdout",
     "output_type": "stream",
     "text": [
      "CPU times: user 4.83 ms, sys: 260 µs, total: 5.09 ms\n",
      "Wall time: 3.56 ms\n"
     ]
    }
   ],
   "source": [
    "%%time\n",
    "sw_fft = np.fft.fft(data)"
   ]
  },
  {
   "cell_type": "code",
   "execution_count": 15,
   "id": "c3d2b41a",
   "metadata": {},
   "outputs": [],
   "source": [
    "input_buffer = allocate(SAMPLES, np.csingle)\n",
    "np.copyto(input_buffer, data)"
   ]
  },
  {
   "cell_type": "code",
   "execution_count": 10,
   "id": "7c242f50",
   "metadata": {},
   "outputs": [],
   "source": [
    "fft.configure('1', SAMPLES)"
   ]
  },
  {
   "cell_type": "code",
   "execution_count": 11,
   "id": "86e6c89f",
   "metadata": {},
   "outputs": [
    {
     "name": "stdout",
     "output_type": "stream",
     "text": [
      "CPU times: user 6.05 ms, sys: 0 ns, total: 6.05 ms\n",
      "Wall time: 5.8 ms\n"
     ]
    }
   ],
   "source": [
    "%%time\n",
    "output = fft.stream(input_buffer)"
   ]
  },
  {
   "cell_type": "code",
   "execution_count": 12,
   "id": "c4884d91",
   "metadata": {},
   "outputs": [
    {
     "data": {
      "text/plain": [
       "[<matplotlib.lines.Line2D at 0xabe32ca0>]"
      ]
     },
     "execution_count": 12,
     "metadata": {},
     "output_type": "execute_result"
    },
    {
     "data": {
      "image/png": "[encoded data removed]",
      "text/plain": [
       "<Figure size 432x288 with 1 Axes>"
      ]
     },
     "metadata": {
      "needs_background": "light"
     },
     "output_type": "display_data"
    }
   ],
   "source": [
    "plt.plot(np.abs(output))"
   ]
  },
  {
   "cell_type": "code",
   "execution_count": 13,
   "id": "49178c81",
   "metadata": {},
   "outputs": [
    {
     "data": {
      "text/plain": [
       "[<matplotlib.lines.Line2D at 0xabf99520>]"
      ]
     },
     "execution_count": 13,
     "metadata": {},
     "output_type": "execute_result"
    },
    {
     "data": {
      "image/png": "[encoded data removed]",
      "text/plain": [
       "<Figure size 432x288 with 1 Axes>"
      ]
     },
     "metadata": {
      "needs_background": "light"
     },
     "output_type": "display_data"
    }
   ],
   "source": [
    "plt.plot(np.abs(np.real(sw_fft)-np.real(output)))"
   ]
  },
  {
   "cell_type": "code",
   "execution_count": null,
   "id": "8f427916",
   "metadata": {},
   "outputs": [],
   "source": []
  }
 ],
 "metadata": {
  "kernelspec": {
   "display_name": "Python 3 (ipykernel)",
   "language": "python",
   "name": "python3"
  },
  "language_info": {
   "codemirror_mode": {
    "name": "ipython",
    "version": 3
   },
   "file_extension": ".py",
   "mimetype": "text/x-python",
   "name": "python",
   "nbconvert_exporter": "python",
   "pygments_lexer": "ipython3",
   "version": "3.10.4"
  }
 },
 "nbformat": 4,
 "nbformat_minor": 5
}
